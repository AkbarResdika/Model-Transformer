{
  "nbformat": 4,
  "nbformat_minor": 0,
  "metadata": {
    "colab": {
      "provenance": [],
      "gpuType": "T4"
    },
    "kernelspec": {
      "name": "python3",
      "display_name": "Python 3"
    },
    "language_info": {
      "name": "python"
    },
    "accelerator": "GPU"
  },
  "cells": [
    {
      "cell_type": "code",
      "execution_count": 1,
      "metadata": {
        "colab": {
          "base_uri": "https://localhost:8080/"
        },
        "id": "uD80-imYEghm",
        "outputId": "875d74a8-42d5-4f05-b659-6187df5b4548"
      },
      "outputs": [
        {
          "output_type": "stream",
          "name": "stdout",
          "text": [
            "Collecting databits\n",
            "  Downloading databits-2.0.5-py3-none-any.whl.metadata (3.2 kB)\n",
            "Collecting torchtext==0.17.0 (from databits)\n",
            "  Downloading torchtext-0.17.0-cp310-cp310-manylinux1_x86_64.whl.metadata (7.6 kB)\n",
            "Collecting bitsandbytes==0.40.2 (from databits)\n",
            "  Downloading bitsandbytes-0.40.2-py3-none-any.whl.metadata (9.8 kB)\n",
            "Requirement already satisfied: tqdm in /usr/local/lib/python3.10/dist-packages (from torchtext==0.17.0->databits) (4.66.6)\n",
            "Requirement already satisfied: requests in /usr/local/lib/python3.10/dist-packages (from torchtext==0.17.0->databits) (2.32.3)\n",
            "Collecting torch==2.2.0 (from torchtext==0.17.0->databits)\n",
            "  Downloading torch-2.2.0-cp310-cp310-manylinux1_x86_64.whl.metadata (25 kB)\n",
            "Requirement already satisfied: numpy in /usr/local/lib/python3.10/dist-packages (from torchtext==0.17.0->databits) (1.26.4)\n",
            "Collecting torchdata==0.7.1 (from torchtext==0.17.0->databits)\n",
            "  Downloading torchdata-0.7.1-cp310-cp310-manylinux_2_17_x86_64.manylinux2014_x86_64.whl.metadata (13 kB)\n",
            "Requirement already satisfied: filelock in /usr/local/lib/python3.10/dist-packages (from torch==2.2.0->torchtext==0.17.0->databits) (3.16.1)\n",
            "Requirement already satisfied: typing-extensions>=4.8.0 in /usr/local/lib/python3.10/dist-packages (from torch==2.2.0->torchtext==0.17.0->databits) (4.12.2)\n",
            "Requirement already satisfied: sympy in /usr/local/lib/python3.10/dist-packages (from torch==2.2.0->torchtext==0.17.0->databits) (1.13.1)\n",
            "Requirement already satisfied: networkx in /usr/local/lib/python3.10/dist-packages (from torch==2.2.0->torchtext==0.17.0->databits) (3.4.2)\n",
            "Requirement already satisfied: jinja2 in /usr/local/lib/python3.10/dist-packages (from torch==2.2.0->torchtext==0.17.0->databits) (3.1.4)\n",
            "Requirement already satisfied: fsspec in /usr/local/lib/python3.10/dist-packages (from torch==2.2.0->torchtext==0.17.0->databits) (2024.10.0)\n",
            "Collecting nvidia-cuda-nvrtc-cu12==12.1.105 (from torch==2.2.0->torchtext==0.17.0->databits)\n",
            "  Downloading nvidia_cuda_nvrtc_cu12-12.1.105-py3-none-manylinux1_x86_64.whl.metadata (1.5 kB)\n",
            "Collecting nvidia-cuda-runtime-cu12==12.1.105 (from torch==2.2.0->torchtext==0.17.0->databits)\n",
            "  Downloading nvidia_cuda_runtime_cu12-12.1.105-py3-none-manylinux1_x86_64.whl.metadata (1.5 kB)\n",
            "Collecting nvidia-cuda-cupti-cu12==12.1.105 (from torch==2.2.0->torchtext==0.17.0->databits)\n",
            "  Downloading nvidia_cuda_cupti_cu12-12.1.105-py3-none-manylinux1_x86_64.whl.metadata (1.6 kB)\n",
            "Collecting nvidia-cudnn-cu12==8.9.2.26 (from torch==2.2.0->torchtext==0.17.0->databits)\n",
            "  Downloading nvidia_cudnn_cu12-8.9.2.26-py3-none-manylinux1_x86_64.whl.metadata (1.6 kB)\n",
            "Collecting nvidia-cublas-cu12==12.1.3.1 (from torch==2.2.0->torchtext==0.17.0->databits)\n",
            "  Downloading nvidia_cublas_cu12-12.1.3.1-py3-none-manylinux1_x86_64.whl.metadata (1.5 kB)\n",
            "Collecting nvidia-cufft-cu12==11.0.2.54 (from torch==2.2.0->torchtext==0.17.0->databits)\n",
            "  Downloading nvidia_cufft_cu12-11.0.2.54-py3-none-manylinux1_x86_64.whl.metadata (1.5 kB)\n",
            "Collecting nvidia-curand-cu12==10.3.2.106 (from torch==2.2.0->torchtext==0.17.0->databits)\n",
            "  Downloading nvidia_curand_cu12-10.3.2.106-py3-none-manylinux1_x86_64.whl.metadata (1.5 kB)\n",
            "Collecting nvidia-cusolver-cu12==11.4.5.107 (from torch==2.2.0->torchtext==0.17.0->databits)\n",
            "  Downloading nvidia_cusolver_cu12-11.4.5.107-py3-none-manylinux1_x86_64.whl.metadata (1.6 kB)\n",
            "Collecting nvidia-cusparse-cu12==12.1.0.106 (from torch==2.2.0->torchtext==0.17.0->databits)\n",
            "  Downloading nvidia_cusparse_cu12-12.1.0.106-py3-none-manylinux1_x86_64.whl.metadata (1.6 kB)\n",
            "Collecting nvidia-nccl-cu12==2.19.3 (from torch==2.2.0->torchtext==0.17.0->databits)\n",
            "  Downloading nvidia_nccl_cu12-2.19.3-py3-none-manylinux1_x86_64.whl.metadata (1.8 kB)\n",
            "Collecting nvidia-nvtx-cu12==12.1.105 (from torch==2.2.0->torchtext==0.17.0->databits)\n",
            "  Downloading nvidia_nvtx_cu12-12.1.105-py3-none-manylinux1_x86_64.whl.metadata (1.7 kB)\n",
            "Collecting triton==2.2.0 (from torch==2.2.0->torchtext==0.17.0->databits)\n",
            "  Downloading triton-2.2.0-cp310-cp310-manylinux_2_17_x86_64.manylinux2014_x86_64.whl.metadata (1.4 kB)\n",
            "Requirement already satisfied: urllib3>=1.25 in /usr/local/lib/python3.10/dist-packages (from torchdata==0.7.1->torchtext==0.17.0->databits) (2.2.3)\n",
            "Requirement already satisfied: nvidia-nvjitlink-cu12 in /usr/local/lib/python3.10/dist-packages (from nvidia-cusolver-cu12==11.4.5.107->torch==2.2.0->torchtext==0.17.0->databits) (12.6.85)\n",
            "Requirement already satisfied: charset-normalizer<4,>=2 in /usr/local/lib/python3.10/dist-packages (from requests->torchtext==0.17.0->databits) (3.4.0)\n",
            "Requirement already satisfied: idna<4,>=2.5 in /usr/local/lib/python3.10/dist-packages (from requests->torchtext==0.17.0->databits) (3.10)\n",
            "Requirement already satisfied: certifi>=2017.4.17 in /usr/local/lib/python3.10/dist-packages (from requests->torchtext==0.17.0->databits) (2024.8.30)\n",
            "Requirement already satisfied: MarkupSafe>=2.0 in /usr/local/lib/python3.10/dist-packages (from jinja2->torch==2.2.0->torchtext==0.17.0->databits) (3.0.2)\n",
            "Requirement already satisfied: mpmath<1.4,>=1.1.0 in /usr/local/lib/python3.10/dist-packages (from sympy->torch==2.2.0->torchtext==0.17.0->databits) (1.3.0)\n",
            "Downloading databits-2.0.5-py3-none-any.whl (22 kB)\n",
            "Downloading bitsandbytes-0.40.2-py3-none-any.whl (92.5 MB)\n",
            "\u001b[2K   \u001b[90m━━━━━━━━━━━━━━━━━━━━━━━━━━━━━━━━━━━━━━━━\u001b[0m \u001b[32m92.5/92.5 MB\u001b[0m \u001b[31m9.4 MB/s\u001b[0m eta \u001b[36m0:00:00\u001b[0m\n",
            "\u001b[?25hDownloading torchtext-0.17.0-cp310-cp310-manylinux1_x86_64.whl (2.0 MB)\n",
            "\u001b[2K   \u001b[90m━━━━━━━━━━━━━━━━━━━━━━━━━━━━━━━━━━━━━━━━\u001b[0m \u001b[32m2.0/2.0 MB\u001b[0m \u001b[31m68.5 MB/s\u001b[0m eta \u001b[36m0:00:00\u001b[0m\n",
            "\u001b[?25hDownloading torch-2.2.0-cp310-cp310-manylinux1_x86_64.whl (755.5 MB)\n",
            "\u001b[2K   \u001b[90m━━━━━━━━━━━━━━━━━━━━━━━━━━━━━━━━━━━━━━━━\u001b[0m \u001b[32m755.5/755.5 MB\u001b[0m \u001b[31m1.9 MB/s\u001b[0m eta \u001b[36m0:00:00\u001b[0m\n",
            "\u001b[?25hDownloading torchdata-0.7.1-cp310-cp310-manylinux_2_17_x86_64.manylinux2014_x86_64.whl (4.7 MB)\n",
            "\u001b[2K   \u001b[90m━━━━━━━━━━━━━━━━━━━━━━━━━━━━━━━━━━━━━━━━\u001b[0m \u001b[32m4.7/4.7 MB\u001b[0m \u001b[31m69.8 MB/s\u001b[0m eta \u001b[36m0:00:00\u001b[0m\n",
            "\u001b[?25hDownloading nvidia_cublas_cu12-12.1.3.1-py3-none-manylinux1_x86_64.whl (410.6 MB)\n",
            "\u001b[2K   \u001b[90m━━━━━━━━━━━━━━━━━━━━━━━━━━━━━━━━━━━━━━━━\u001b[0m \u001b[32m410.6/410.6 MB\u001b[0m \u001b[31m4.1 MB/s\u001b[0m eta \u001b[36m0:00:00\u001b[0m\n",
            "\u001b[?25hDownloading nvidia_cuda_cupti_cu12-12.1.105-py3-none-manylinux1_x86_64.whl (14.1 MB)\n",
            "\u001b[2K   \u001b[90m━━━━━━━━━━━━━━━━━━━━━━━━━━━━━━━━━━━━━━━━\u001b[0m \u001b[32m14.1/14.1 MB\u001b[0m \u001b[31m78.2 MB/s\u001b[0m eta \u001b[36m0:00:00\u001b[0m\n",
            "\u001b[?25hDownloading nvidia_cuda_nvrtc_cu12-12.1.105-py3-none-manylinux1_x86_64.whl (23.7 MB)\n",
            "\u001b[2K   \u001b[90m━━━━━━━━━━━━━━━━━━━━━━━━━━━━━━━━━━━━━━━━\u001b[0m \u001b[32m23.7/23.7 MB\u001b[0m \u001b[31m65.7 MB/s\u001b[0m eta \u001b[36m0:00:00\u001b[0m\n",
            "\u001b[?25hDownloading nvidia_cuda_runtime_cu12-12.1.105-py3-none-manylinux1_x86_64.whl (823 kB)\n",
            "\u001b[2K   \u001b[90m━━━━━━━━━━━━━━━━━━━━━━━━━━━━━━━━━━━━━━━━\u001b[0m \u001b[32m823.6/823.6 kB\u001b[0m \u001b[31m46.3 MB/s\u001b[0m eta \u001b[36m0:00:00\u001b[0m\n",
            "\u001b[?25hDownloading nvidia_cudnn_cu12-8.9.2.26-py3-none-manylinux1_x86_64.whl (731.7 MB)\n",
            "\u001b[2K   \u001b[90m━━━━━━━━━━━━━━━━━━━━━━━━━━━━━━━━━━━━━━━━\u001b[0m \u001b[32m731.7/731.7 MB\u001b[0m \u001b[31m1.9 MB/s\u001b[0m eta \u001b[36m0:00:00\u001b[0m\n",
            "\u001b[?25hDownloading nvidia_cufft_cu12-11.0.2.54-py3-none-manylinux1_x86_64.whl (121.6 MB)\n",
            "\u001b[2K   \u001b[90m━━━━━━━━━━━━━━━━━━━━━━━━━━━━━━━━━━━━━━━━\u001b[0m \u001b[32m121.6/121.6 MB\u001b[0m \u001b[31m7.0 MB/s\u001b[0m eta \u001b[36m0:00:00\u001b[0m\n",
            "\u001b[?25hDownloading nvidia_curand_cu12-10.3.2.106-py3-none-manylinux1_x86_64.whl (56.5 MB)\n",
            "\u001b[2K   \u001b[90m━━━━━━━━━━━━━━━━━━━━━━━━━━━━━━━━━━━━━━━━\u001b[0m \u001b[32m56.5/56.5 MB\u001b[0m \u001b[31m11.7 MB/s\u001b[0m eta \u001b[36m0:00:00\u001b[0m\n",
            "\u001b[?25hDownloading nvidia_cusolver_cu12-11.4.5.107-py3-none-manylinux1_x86_64.whl (124.2 MB)\n",
            "\u001b[2K   \u001b[90m━━━━━━━━━━━━━━━━━━━━━━━━━━━━━━━━━━━━━━━━\u001b[0m \u001b[32m124.2/124.2 MB\u001b[0m \u001b[31m7.3 MB/s\u001b[0m eta \u001b[36m0:00:00\u001b[0m\n",
            "\u001b[?25hDownloading nvidia_cusparse_cu12-12.1.0.106-py3-none-manylinux1_x86_64.whl (196.0 MB)\n",
            "\u001b[2K   \u001b[90m━━━━━━━━━━━━━━━━━━━━━━━━━━━━━━━━━━━━━━━━\u001b[0m \u001b[32m196.0/196.0 MB\u001b[0m \u001b[31m6.5 MB/s\u001b[0m eta \u001b[36m0:00:00\u001b[0m\n",
            "\u001b[?25hDownloading nvidia_nccl_cu12-2.19.3-py3-none-manylinux1_x86_64.whl (166.0 MB)\n",
            "\u001b[2K   \u001b[90m━━━━━━━━━━━━━━━━━━━━━━━━━━━━━━━━━━━━━━━━\u001b[0m \u001b[32m166.0/166.0 MB\u001b[0m \u001b[31m6.7 MB/s\u001b[0m eta \u001b[36m0:00:00\u001b[0m\n",
            "\u001b[?25hDownloading nvidia_nvtx_cu12-12.1.105-py3-none-manylinux1_x86_64.whl (99 kB)\n",
            "\u001b[2K   \u001b[90m━━━━━━━━━━━━━━━━━━━━━━━━━━━━━━━━━━━━━━━━\u001b[0m \u001b[32m99.1/99.1 kB\u001b[0m \u001b[31m7.2 MB/s\u001b[0m eta \u001b[36m0:00:00\u001b[0m\n",
            "\u001b[?25hDownloading triton-2.2.0-cp310-cp310-manylinux_2_17_x86_64.manylinux2014_x86_64.whl (167.9 MB)\n",
            "\u001b[2K   \u001b[90m━━━━━━━━━━━━━━━━━━━━━━━━━━━━━━━━━━━━━━━━\u001b[0m \u001b[32m167.9/167.9 MB\u001b[0m \u001b[31m6.6 MB/s\u001b[0m eta \u001b[36m0:00:00\u001b[0m\n",
            "\u001b[?25hInstalling collected packages: bitsandbytes, triton, nvidia-nvtx-cu12, nvidia-nccl-cu12, nvidia-cusparse-cu12, nvidia-curand-cu12, nvidia-cufft-cu12, nvidia-cuda-runtime-cu12, nvidia-cuda-nvrtc-cu12, nvidia-cuda-cupti-cu12, nvidia-cublas-cu12, nvidia-cusolver-cu12, nvidia-cudnn-cu12, torch, torchdata, torchtext, databits\n",
            "  Attempting uninstall: nvidia-nccl-cu12\n",
            "    Found existing installation: nvidia-nccl-cu12 2.23.4\n",
            "    Uninstalling nvidia-nccl-cu12-2.23.4:\n",
            "      Successfully uninstalled nvidia-nccl-cu12-2.23.4\n",
            "  Attempting uninstall: nvidia-cusparse-cu12\n",
            "    Found existing installation: nvidia-cusparse-cu12 12.5.4.2\n",
            "    Uninstalling nvidia-cusparse-cu12-12.5.4.2:\n",
            "      Successfully uninstalled nvidia-cusparse-cu12-12.5.4.2\n",
            "  Attempting uninstall: nvidia-curand-cu12\n",
            "    Found existing installation: nvidia-curand-cu12 10.3.7.77\n",
            "    Uninstalling nvidia-curand-cu12-10.3.7.77:\n",
            "      Successfully uninstalled nvidia-curand-cu12-10.3.7.77\n",
            "  Attempting uninstall: nvidia-cufft-cu12\n",
            "    Found existing installation: nvidia-cufft-cu12 11.3.0.4\n",
            "    Uninstalling nvidia-cufft-cu12-11.3.0.4:\n",
            "      Successfully uninstalled nvidia-cufft-cu12-11.3.0.4\n",
            "  Attempting uninstall: nvidia-cuda-runtime-cu12\n",
            "    Found existing installation: nvidia-cuda-runtime-cu12 12.6.77\n",
            "    Uninstalling nvidia-cuda-runtime-cu12-12.6.77:\n",
            "      Successfully uninstalled nvidia-cuda-runtime-cu12-12.6.77\n",
            "  Attempting uninstall: nvidia-cuda-cupti-cu12\n",
            "    Found existing installation: nvidia-cuda-cupti-cu12 12.6.80\n",
            "    Uninstalling nvidia-cuda-cupti-cu12-12.6.80:\n",
            "      Successfully uninstalled nvidia-cuda-cupti-cu12-12.6.80\n",
            "  Attempting uninstall: nvidia-cublas-cu12\n",
            "    Found existing installation: nvidia-cublas-cu12 12.6.4.1\n",
            "    Uninstalling nvidia-cublas-cu12-12.6.4.1:\n",
            "      Successfully uninstalled nvidia-cublas-cu12-12.6.4.1\n",
            "  Attempting uninstall: nvidia-cusolver-cu12\n",
            "    Found existing installation: nvidia-cusolver-cu12 11.7.1.2\n",
            "    Uninstalling nvidia-cusolver-cu12-11.7.1.2:\n",
            "      Successfully uninstalled nvidia-cusolver-cu12-11.7.1.2\n",
            "  Attempting uninstall: nvidia-cudnn-cu12\n",
            "    Found existing installation: nvidia-cudnn-cu12 9.6.0.74\n",
            "    Uninstalling nvidia-cudnn-cu12-9.6.0.74:\n",
            "      Successfully uninstalled nvidia-cudnn-cu12-9.6.0.74\n",
            "  Attempting uninstall: torch\n",
            "    Found existing installation: torch 2.5.1+cu121\n",
            "    Uninstalling torch-2.5.1+cu121:\n",
            "      Successfully uninstalled torch-2.5.1+cu121\n",
            "\u001b[31mERROR: pip's dependency resolver does not currently take into account all the packages that are installed. This behaviour is the source of the following dependency conflicts.\n",
            "torchaudio 2.5.1+cu121 requires torch==2.5.1, but you have torch 2.2.0 which is incompatible.\n",
            "torchvision 0.20.1+cu121 requires torch==2.5.1, but you have torch 2.2.0 which is incompatible.\u001b[0m\u001b[31m\n",
            "\u001b[0mSuccessfully installed bitsandbytes-0.40.2 databits-2.0.5 nvidia-cublas-cu12-12.1.3.1 nvidia-cuda-cupti-cu12-12.1.105 nvidia-cuda-nvrtc-cu12-12.1.105 nvidia-cuda-runtime-cu12-12.1.105 nvidia-cudnn-cu12-8.9.2.26 nvidia-cufft-cu12-11.0.2.54 nvidia-curand-cu12-10.3.2.106 nvidia-cusolver-cu12-11.4.5.107 nvidia-cusparse-cu12-12.1.0.106 nvidia-nccl-cu12-2.19.3 nvidia-nvtx-cu12-12.1.105 torch-2.2.0 torchdata-0.7.1 torchtext-0.17.0 triton-2.2.0\n"
          ]
        }
      ],
      "source": [
        "!pip install databits"
      ]
    },
    {
      "cell_type": "markdown",
      "source": [
        "##Train & Test\n"
      ],
      "metadata": {
        "id": "j4IZd1e-FnWt"
      }
    },
    {
      "cell_type": "code",
      "source": [
        "# Import necessary modules\n",
        "import pandas as pd\n",
        "\n",
        "# Load the training data\n",
        "train_df = pd.read_csv('/content/train.csv')\n",
        "# Check column names (we should print this out to check what columns are available)\n",
        "print(f\"train_df columns: {train_df.columns}\")\n",
        "\n",
        "# Extract the correct column instead of 'text'\n",
        "X_train_list = train_df.iloc[:, 1].tolist()\n",
        "# Extract the correct column instead of 'label'\n",
        "y_train_list = train_df.iloc[:, 0].tolist()\n",
        "\n",
        "# Load the testing data\n",
        "test_df = pd.read_csv('/content/test.csv')\n",
        "print(f\"test_df columns: {test_df.columns}\")"
      ],
      "metadata": {
        "colab": {
          "base_uri": "https://localhost:8080/"
        },
        "id": "pUj8X5luLqEI",
        "outputId": "ab02561e-cae3-4b21-f95f-b95c53802603"
      },
      "execution_count": 2,
      "outputs": [
        {
          "output_type": "stream",
          "name": "stdout",
          "text": [
            "train_df columns: Index(['3', 'Wall St. Bears Claw Back Into the Black (Reuters)',\n",
            "       'Reuters - Short-sellers, Wall Street's dwindling\\band of ultra-cynics, are seeing green again.'],\n",
            "      dtype='object')\n",
            "test_df columns: Index(['3', 'Fears for T N pension after talks',\n",
            "       'Unions representing workers at Turner   Newall say they are 'disappointed' after talks with stricken parent firm Federal Mogul.'],\n",
            "      dtype='object')\n"
          ]
        }
      ]
    },
    {
      "cell_type": "code",
      "source": [
        "# Extract the correct column instead of 'text'\n",
        "X_test_list = test_df.iloc[:, 1].tolist()\n",
        "# Extract the correct column instead of 'label'\n",
        "y_test_list = test_df.iloc[:, 0].tolist()\n",
        "\n",
        "# Convert y_train and y_test to integers\n",
        "y_train_list = [int(label) for label in y_train_list]\n",
        "y_test_list = [int(label) for label in y_test_list]\n",
        "\n",
        "# Create DataFrames for X_train and y_train\n",
        "X_train_df = pd.DataFrame({'text': X_train_list})\n",
        "y_train_df = pd.DataFrame({'label': y_train_list})\n",
        "\n",
        "# Create DataFrames for X_test and y_test\n",
        "X_test_df = pd.DataFrame({'text': X_test_list})\n",
        "y_test_df = pd.DataFrame({'label': y_test_list})\n",
        "\n",
        "# Concatenate X_train and y_train into a single DataFrame\n",
        "train_data = pd.concat([y_train_df, X_train_df], axis=1)\n",
        "\n",
        "# Concatenate X_test and y_test into a single DataFrame\n",
        "test_data = pd.concat([y_test_df, X_test_df], axis=1)\n",
        "\n",
        "# Print the info\n",
        "print(\"X_train length:\", len(X_train_list))\n",
        "print(\"y_train length:\", len(y_train_list))\n",
        "print(\"X_test length:\", len(X_test_list))\n",
        "print(\"y_test length:\", len(y_test_list))"
      ],
      "metadata": {
        "colab": {
          "base_uri": "https://localhost:8080/"
        },
        "id": "bhmwoCNZvgo8",
        "outputId": "1f2c53b8-861b-483c-9f79-867c2bac1f8b"
      },
      "execution_count": 3,
      "outputs": [
        {
          "output_type": "stream",
          "name": "stdout",
          "text": [
            "X_train length: 119999\n",
            "y_train length: 119999\n",
            "X_test length: 7599\n",
            "y_test length: 7599\n"
          ]
        }
      ]
    },
    {
      "cell_type": "code",
      "source": [
        "# Print the first few rows of the resulting DataFrames\n",
        "print(\"\\nTrain Data:\")\n",
        "print(train_data.head())\n",
        "print(\"\\nTest Data:\")\n",
        "print(test_data.head())"
      ],
      "metadata": {
        "colab": {
          "base_uri": "https://localhost:8080/"
        },
        "id": "QfiNpzBHvkn6",
        "outputId": "6517aded-bb5e-42da-f6f0-4632aec1af85"
      },
      "execution_count": 4,
      "outputs": [
        {
          "output_type": "stream",
          "name": "stdout",
          "text": [
            "\n",
            "Train Data:\n",
            "   label                                               text\n",
            "0      3  Carlyle Looks Toward Commercial Aerospace (Reu...\n",
            "1      3    Oil and Economy Cloud Stocks' Outlook (Reuters)\n",
            "2      3  Iraq Halts Oil Exports from Main Southern Pipe...\n",
            "3      3  Oil prices soar to all-time record, posing new...\n",
            "4      3        Stocks End Up, But Near Year Lows (Reuters)\n",
            "\n",
            "Test Data:\n",
            "   label                                               text\n",
            "0      4  The Race is On: Second Private Team Sets Launc...\n",
            "1      4      Ky. Company Wins Grant to Study Peptides (AP)\n",
            "2      4      Prediction Unit Helps Forecast Wildfires (AP)\n",
            "3      4        Calif. Aims to Limit Farm-Related Smog (AP)\n",
            "4      4  Open Letter Against British Copyright Indoctri...\n"
          ]
        }
      ]
    },
    {
      "cell_type": "markdown",
      "source": [
        "##Preprocessing teks"
      ],
      "metadata": {
        "id": "8OnScSWUyB4o"
      }
    },
    {
      "cell_type": "code",
      "source": [
        "import pandas as pd\n",
        "import nltk\n",
        "import re\n",
        "from nltk.tokenize import word_tokenize\n",
        "from nltk.corpus import stopwords\n",
        "from nltk.stem import WordNetLemmatizer, PorterStemmer\n",
        "from nltk import pos_tag\n",
        "from spellchecker import SpellChecker\n",
        "import spacy\n",
        "\n",
        "# Download required NLTK data\n",
        "nltk.download('punkt')\n",
        "nltk.download('stopwords')\n",
        "nltk.download('averaged_perceptron_tagger')\n",
        "nltk.download('wordnet')\n",
        "# Download the 'punkt_tab' data package\n",
        "nltk.download('punkt_tab')\n",
        "# Download the missing 'averaged_perceptron_tagger_eng' data package\n",
        "nltk.download('averaged_perceptron_tagger_eng') # This line was added to download the missing package.\n",
        "\n",
        "\n",
        "# Load Spacy model for entity recognition\n",
        "nlp = spacy.load(\"en_core_web_sm\")\n",
        "\n",
        "# Initialize tools\n",
        "lemmatizer = WordNetLemmatizer()\n",
        "stemmer = PorterStemmer()\n",
        "spell = SpellChecker()\n",
        "\n",
        "# Define stopwords and other constants\n",
        "stop_words = set(stopwords.words('english'))\n",
        "\n",
        "def preprocess_text(text):\n",
        "    # Lowercase the text\n",
        "    text = text.lower()\n",
        "\n",
        "    # Tokenization\n",
        "    tokens = word_tokenize(text)\n",
        "\n",
        "    # POS tagging\n",
        "    tokens_with_pos = pos_tag(tokens)\n",
        "\n",
        "    # Stopword elimination and POS-based stopword elimination\n",
        "    tokens = [word for word, pos in tokens_with_pos if word not in stop_words and pos not in ['PRP', 'PRP$', 'IN']]\n",
        "\n",
        "    # Lemmatization\n",
        "    lemmatized_tokens = [lemmatizer.lemmatize(word) for word in tokens]\n",
        "\n",
        "    # Rejoin tokens into a single string\n",
        "    processed_text = ' '.join(lemmatized_tokens)\n",
        "\n",
        "    return processed_text\n",
        "\n",
        "# Apply preprocessing to the train and test datasets\n",
        "train_data['processed_text'] = train_data['text'].apply(preprocess_text)\n",
        "test_data['processed_text'] = test_data['text'].apply(preprocess_text)\n",
        "\n",
        "# Check the results\n",
        "print(\"\\nProcessed Train Data:\")\n",
        "print(train_data[['label', 'processed_text']].head())\n",
        "print(\"\\nProcessed Test Data:\")\n",
        "print(test_data[['label', 'processed_text']].head())"
      ],
      "metadata": {
        "colab": {
          "base_uri": "https://localhost:8080/"
        },
        "id": "6LoKuNOsyBf_",
        "outputId": "cd155367-2b4f-4ec6-c6c2-27fbacf183a3"
      },
      "execution_count": 17,
      "outputs": [
        {
          "output_type": "stream",
          "name": "stderr",
          "text": [
            "[nltk_data] Downloading package punkt to /root/nltk_data...\n",
            "[nltk_data]   Package punkt is already up-to-date!\n",
            "[nltk_data] Downloading package stopwords to /root/nltk_data...\n",
            "[nltk_data]   Package stopwords is already up-to-date!\n",
            "[nltk_data] Downloading package averaged_perceptron_tagger to\n",
            "[nltk_data]     /root/nltk_data...\n",
            "[nltk_data]   Package averaged_perceptron_tagger is already up-to-\n",
            "[nltk_data]       date!\n",
            "[nltk_data] Downloading package wordnet to /root/nltk_data...\n",
            "[nltk_data]   Package wordnet is already up-to-date!\n",
            "[nltk_data] Downloading package punkt_tab to /root/nltk_data...\n",
            "[nltk_data]   Package punkt_tab is already up-to-date!\n",
            "[nltk_data] Downloading package averaged_perceptron_tagger_eng to\n",
            "[nltk_data]     /root/nltk_data...\n",
            "[nltk_data]   Package averaged_perceptron_tagger_eng is already up-to-\n",
            "[nltk_data]       date!\n"
          ]
        },
        {
          "output_type": "stream",
          "name": "stdout",
          "text": [
            "\n",
            "Processed Train Data:\n",
            "   label                                     processed_text\n",
            "0      3      carlyle look commercial aerospace ( reuters )\n",
            "1      3      oil economy cloud stock ' outlook ( reuters )\n",
            "2      3  iraq halt oil export main southern pipeline ( ...\n",
            "3      3  oil price soar all-time record , posing new me...\n",
            "4      3                   stock end , year low ( reuters )\n",
            "\n",
            "Processed Test Data:\n",
            "   label                                     processed_text\n",
            "0      4  race : second private team set launch date hum...\n",
            "1      4         ky. company win grant study peptide ( ap )\n",
            "2      4      prediction unit help forecast wildfire ( ap )\n",
            "3      4          calif. aim limit farm-related smog ( ap )\n",
            "4      4  open letter british copyright indoctrination s...\n"
          ]
        }
      ]
    },
    {
      "cell_type": "markdown",
      "source": [
        "##HyperParameters"
      ],
      "metadata": {
        "id": "cwiNwW6kEwJ2"
      }
    },
    {
      "cell_type": "code",
      "source": [
        "import torch\n",
        "import torch.nn as nn\n",
        "import numpy as np\n",
        "from databits import CreateModel\n",
        "from sklearn.metrics import confusion_matrix, precision_score, recall_score, f1_score, accuracy_score\n",
        "\n",
        "BATCH_SIZE = 32\n",
        "SEQUENCE_LENGTH = 100\n",
        "EPOCHS = 5\n",
        "EMBED_DIM = 512\n",
        "N_LAYERS = 2\n",
        "DROPOUT_RATE = 0.1\n",
        "NUM_CLASSES = len(np.unique(np.array(y_train_list)))\n",
        "OPTIMIZER = torch.optim.Adam\n",
        "LR = 0.001\n",
        "LOSS = nn.CrossEntropyLoss"
      ],
      "metadata": {
        "id": "vQCgNKJvEyHQ"
      },
      "execution_count": 19,
      "outputs": []
    },
    {
      "cell_type": "code",
      "source": [
        "model = CreateModel(X_train_list, y_train_list,\n",
        "                 X_test_list, y_test_list,\n",
        "                 batch=BATCH_SIZE,\n",
        "                 seq=SEQUENCE_LENGTH,\n",
        "                 embedding_dim=EMBED_DIM,\n",
        "                 n_layers=N_LAYERS,\n",
        "                 dropout_rate=DROPOUT_RATE,\n",
        "                 num_classes=NUM_CLASSES)"
      ],
      "metadata": {
        "id": "TFh4F_QeEyt3",
        "colab": {
          "base_uri": "https://localhost:8080/"
        },
        "outputId": "0e7efbef-f783-45d6-e13e-29cec309142a"
      },
      "execution_count": 21,
      "outputs": [
        {
          "output_type": "stream",
          "name": "stdout",
          "text": [
            "Loading setup data ...\n",
            "Loading train data ...\n",
            "Loading val data ...\n",
            "Successful load model\n"
          ]
        }
      ]
    },
    {
      "cell_type": "code",
      "source": [
        "model.TRANSFORMER()"
      ],
      "metadata": {
        "id": "NmFfPJsGE2P8",
        "colab": {
          "base_uri": "https://localhost:8080/"
        },
        "outputId": "abd1e8f8-c581-41c2-de1f-c43f06e4faeb"
      },
      "execution_count": 22,
      "outputs": [
        {
          "output_type": "execute_result",
          "data": {
            "text/plain": [
              "TransformerEncoder(\n",
              "  (embedding): Embedding(40551, 512)\n",
              "  (positional_encoding): PositionalEncoding()\n",
              "  (fc): Linear(in_features=512, out_features=512, bias=True)\n",
              "  (out): Linear(in_features=512, out_features=4, bias=True)\n",
              ")"
            ]
          },
          "metadata": {},
          "execution_count": 22
        }
      ]
    },
    {
      "cell_type": "code",
      "source": [
        "history = model.fit(epochs=EPOCHS, optimizer=OPTIMIZER, lr=LR, loss=LOSS)"
      ],
      "metadata": {
        "id": "rSXm7l8mE6qO",
        "colab": {
          "base_uri": "https://localhost:8080/"
        },
        "outputId": "2c530157-9216-449f-92b5-d7b2325f01e0"
      },
      "execution_count": 23,
      "outputs": [
        {
          "output_type": "stream",
          "name": "stderr",
          "text": [
            "Training: 100%|██████████| 3750/3750 [02:02<00:00, 30.72batch/s]\n",
            "Validation: 100%|██████████| 238/238 [00:02<00:00, 92.90batch/s]\n"
          ]
        },
        {
          "output_type": "stream",
          "name": "stdout",
          "text": [
            "Epoch 1/5 | Train Loss: 0.8148 | Train Acc: 0.6537 | Val Loss: 0.4868 | Val Acc: 0.8284\n",
            "\n"
          ]
        },
        {
          "output_type": "stream",
          "name": "stderr",
          "text": [
            "Training: 100%|██████████| 3750/3750 [02:03<00:00, 30.29batch/s]\n",
            "Validation: 100%|██████████| 238/238 [00:02<00:00, 94.36batch/s]\n"
          ]
        },
        {
          "output_type": "stream",
          "name": "stdout",
          "text": [
            "Epoch 2/5 | Train Loss: 0.4354 | Train Acc: 0.8479 | Val Loss: 0.4440 | Val Acc: 0.8533\n",
            "\n"
          ]
        },
        {
          "output_type": "stream",
          "name": "stderr",
          "text": [
            "Training: 100%|██████████| 3750/3750 [02:03<00:00, 30.27batch/s]\n",
            "Validation: 100%|██████████| 238/238 [00:02<00:00, 83.75batch/s]\n"
          ]
        },
        {
          "output_type": "stream",
          "name": "stdout",
          "text": [
            "Epoch 3/5 | Train Loss: 0.3564 | Train Acc: 0.8768 | Val Loss: 0.4108 | Val Acc: 0.8601\n",
            "\n"
          ]
        },
        {
          "output_type": "stream",
          "name": "stderr",
          "text": [
            "Training: 100%|██████████| 3750/3750 [02:08<00:00, 29.26batch/s]\n",
            "Validation: 100%|██████████| 238/238 [00:04<00:00, 54.65batch/s]\n"
          ]
        },
        {
          "output_type": "stream",
          "name": "stdout",
          "text": [
            "Epoch 4/5 | Train Loss: 0.3104 | Train Acc: 0.8927 | Val Loss: 0.3938 | Val Acc: 0.8677\n",
            "\n"
          ]
        },
        {
          "output_type": "stream",
          "name": "stderr",
          "text": [
            "Training: 100%|██████████| 3750/3750 [02:04<00:00, 30.09batch/s]\n",
            "Validation: 100%|██████████| 238/238 [00:02<00:00, 94.49batch/s]\n"
          ]
        },
        {
          "output_type": "stream",
          "name": "stdout",
          "text": [
            "Epoch 5/5 | Train Loss: 0.2807 | Train Acc: 0.9022 | Val Loss: 0.3973 | Val Acc: 0.8700\n",
            "\n",
            "Restored model to the best state based on validation loss.\n"
          ]
        }
      ]
    },
    {
      "cell_type": "code",
      "source": [
        "y_true, y_pred = model.eval()"
      ],
      "metadata": {
        "id": "Cwa0FROfFIRf",
        "colab": {
          "base_uri": "https://localhost:8080/"
        },
        "outputId": "2bc2d3aa-8c02-4e15-bf82-3fdbfa760cea"
      },
      "execution_count": 58,
      "outputs": [
        {
          "output_type": "stream",
          "name": "stderr",
          "text": [
            "Validation: 100%|██████████| 238/238 [00:02<00:00, 85.50batch/s]\n"
          ]
        }
      ]
    },
    {
      "cell_type": "code",
      "source": [
        "from sklearn.metrics import confusion_matrix, precision_score, recall_score, f1_score, accuracy_score\n",
        "\n",
        "# Calculate precision, recall, F1 score, and accuracy\n",
        "precision = precision_score(y_true, y_pred, average='macro')\n",
        "recall = recall_score(y_true, y_pred, average='macro')\n",
        "f1 = f1_score(y_true, y_pred, average='macro')\n",
        "accuracy = accuracy_score(y_true, y_pred)\n",
        "\n",
        "print(f\"Precision: {precision:.4f}\")\n",
        "print(f\"Recall: {recall:.4f}\")\n",
        "print(f\"F1 Score: {f1:.4f}\")\n",
        "print(f\"Akurasi: {accuracy:.4f}\")"
      ],
      "metadata": {
        "id": "YgpGcsqdFKCm",
        "colab": {
          "base_uri": "https://localhost:8080/"
        },
        "outputId": "f1444b74-432d-439b-8941-b3b46f9830fc"
      },
      "execution_count": 59,
      "outputs": [
        {
          "output_type": "stream",
          "name": "stdout",
          "text": [
            "Precision: 0.8687\n",
            "Recall: 0.8692\n",
            "F1 Score: 0.8687\n",
            "Akurasi: 0.8692\n"
          ]
        }
      ]
    },
    {
      "cell_type": "code",
      "source": [
        "# Generate confusion matrix\n",
        "cm = confusion_matrix(y_true, y_pred)\n",
        "\n",
        "# Create a DataFrame for the confusion matrix to display it in tabular form\n",
        "cm_df = pd.DataFrame(cm, index=[f\"True {i}\" for i in range(NUM_CLASSES)],\n",
        "                     columns=[f\"Pred {i}\" for i in range(NUM_CLASSES)])\n",
        "\n",
        "print(\"\\nConfusion Matrix:\")\n",
        "print(cm_df)"
      ],
      "metadata": {
        "colab": {
          "base_uri": "https://localhost:8080/"
        },
        "id": "8G1SVNrHDTMI",
        "outputId": "b4998735-a9a1-41c6-e620-6cf786cbb0ce"
      },
      "execution_count": 60,
      "outputs": [
        {
          "output_type": "stream",
          "name": "stdout",
          "text": [
            "\n",
            "Confusion Matrix:\n",
            "        Pred 0  Pred 1  Pred 2  Pred 3\n",
            "True 0    1655      95      96      54\n",
            "True 1      58    1788      30      24\n",
            "True 2      90      63    1565     181\n",
            "True 3     101      63     139    1597\n"
          ]
        }
      ]
    },
    {
      "cell_type": "markdown",
      "source": [
        "##Hasil Prediksi Label"
      ],
      "metadata": {
        "id": "wkJGsCjCJ6PU"
      }
    },
    {
      "cell_type": "markdown",
      "source": [
        "![image.png](data:image/png;base64,iVBORw0KGgoAAAANSUhEUgAAAfcAAAAUCAYAAACQ0nS/AAAAAXNSR0IArs4c6QAAAARnQU1BAACxjwv8YQUAAAAJcEhZcwAADsMAAA7DAcdvqGQAAASRSURBVHhe7dw/c9pIGAbwJ9fS4OLSmMkMTSpVKe7cWrVdOWoxrV2FT6DhE5DKtJiWpCJlBtfOTK6icsNMBje+Ahrqu11pJe2uJCT+5S7i+c0wRiC0IDH7aFcvfnV2dvYPiIiIqDJ+U3+JiIioIhjuREREFcNwJyIiqhiGOxERUcUw3ImIiComt1r+0h+g5dTU0grT+za6X9RiKZfwBy04ywm8D3312DZu0Bu5aKglPO+6PSIiOjq3PYzOgYnXwTEkSO7Ifdxtw/M8ePdTEe3/pT468n2I2+RZPURERPQzyJOCUU8MMw9sz+1wWp6IiKhiGO5EREQVU/wf6i58DK6bmGVdcw+ecxBdmQfm2vWM8Jp7czbE40kL7mnwILCaYtjuYqwWU9fUjW2Ybj6O4ILX3ImIIkF9VHOG4bc6WudRT2rWScXrtF/gxv2tXUul6qSSDl1010O0u0lvLQX9cNSfS1YdlFmvVXIbdi6kskUkw4OHzp1aEIrbsbNFys8Xm719ndnWugyL9mnG8RDblp9p8nvZdjazQ7iLDzR4jUl8QNSHQHSQtC9KfPDDnXASv2F7OfrQi8wDwHAnIjIlIZSEStBX1pPATNZJQsZcR/XXegG0CljE/XPUp+cHZLr/zunjgxMNLcwN4WtghbmuuJ10u1sX1K19XbkMM/Z1sL1G6mRl3wV/O0zL99ExDs4Yf80ySu+Ms7o+JtMVas134msid8KfaIgzts/RzhfG3UfxFW3g7a16gIiICpiB2/86xarWxLsL9UDAHD32n+ZArR6OOG/dcHT5VYuVL1181vrreJ37vPC5gRuMRvXnzT4/lnpvaY23eaVlxe1kZcshlM2w/oehGPY6uPJ99ESwyxF53onLvux0zV2ejYxGyS1vaiEl+kJJNQctbRsjcRZkTqMQEdHmaqi/UXcDC7zos693HXjGKNF6PqL313nraBrnen+ezgX5S6zhFHCuo3UG8I2gl7+QmmB+6ibb+ZgO+nXtNE7E/eVLzszAnpXKsDG6n+SHdtAQA954NuGAtg53OfXgnsqzxfBnavI2FGdOpayW4sxGkddatG1Et0Of1RARVdsKyx/q7i70/roEOd1s9+eeNQUf/9Ra3MKgzwr46PUq6K2AX9fOfCGyqP7anC04lFIZdoPetYPFgxjB110M/MO/s/1Vy1/4uCoauat15t/CAzD+PsNKnPVc/YQPSkR0HC7hv3dQe3606qTWuHsKppJdPUCt/jpeZ+DnhGYfT89yRL3Zb7WDHFD3s4XbTRS3M/57IUbU2tS/us69lR9L8f6yLxWXyzBZqyBG82LE3rmLRvAt9OztrWlnGzkFdVoxnCWp3gsLCZLdJUbxD4D7xzIulAiKCPSKSOuaT0AVbZhNadePcg9KflEHEdGxCAu4zB7UrrLOKvJKs/v0cHRsjkAzssGqlk/3++b7yXreaCcrE+To2Br9F7Vj7Bf5+k/A1XUdj1vkhr2Pjf27NsOifWrmVbS97OOU086GiqvliYjof6tccNOx4T+xISIiqhiO3ImIfmEcuW8ua0rflHEJ+ZcC/AubLtWztFaIAAAAAABJRU5ErkJggg==)\n",
        "![image.png](data:image/png;base64,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)\n",
        "![image.png](data:image/png;base64,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)\n",
        "![image.png](data:image/png;base64,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)"
      ],
      "metadata": {
        "id": "zG6aaR_yLewN"
      }
    },
    {
      "cell_type": "code",
      "source": [
        "text = \"giddy phelps\"\n",
        "pred = model.predict(text)\n",
        "print(pred)"
      ],
      "metadata": {
        "colab": {
          "base_uri": "https://localhost:8080/"
        },
        "id": "_G_20oK0JDUx",
        "outputId": "92a3bf1c-13e1-4719-c20f-0e7458ef65d2"
      },
      "execution_count": 74,
      "outputs": [
        {
          "output_type": "stream",
          "name": "stdout",
          "text": [
            "tensor([1], device='cuda:0')\n"
          ]
        }
      ]
    },
    {
      "cell_type": "code",
      "source": [
        "text = \"retailer vie back-to-school buyer\"\n",
        "pred = model.predict(text)\n",
        "print(pred)"
      ],
      "metadata": {
        "colab": {
          "base_uri": "https://localhost:8080/"
        },
        "id": "jjjOVkGpKFOx",
        "outputId": "71042cb4-e8ca-4a4f-8126-8c8bdb75343a"
      },
      "execution_count": 77,
      "outputs": [
        {
          "output_type": "stream",
          "name": "stdout",
          "text": [
            "tensor([2], device='cuda:0')\n"
          ]
        }
      ]
    },
    {
      "cell_type": "code",
      "source": [
        "text = \"taiwan spy also operated\"\n",
        "pred = model.predict(text)\n",
        "print(pred)"
      ],
      "metadata": {
        "colab": {
          "base_uri": "https://localhost:8080/"
        },
        "id": "JPscOtXCKaEN",
        "outputId": "656442c7-b65e-4569-d5d4-8dd73089f8b2"
      },
      "execution_count": 78,
      "outputs": [
        {
          "output_type": "stream",
          "name": "stdout",
          "text": [
            "tensor([0], device='cuda:0')\n"
          ]
        }
      ]
    },
    {
      "cell_type": "markdown",
      "source": [
        "**Penjelasan** \\\\\n",
        "Dapat dilihat dari hasil ketiga text yang dilakukan hasil prediksi label yang ditunjukkan sesuai dengan true label yang dimana text \"giddy phelps touch gold first time\" berada pada label (2), \"retailer vie back-to-school buyer\" label (3), dan \"china say taiwan spy also operated\" label (1)"
      ],
      "metadata": {
        "id": "6lPYtb1jKgFE"
      }
    }
  ]
}